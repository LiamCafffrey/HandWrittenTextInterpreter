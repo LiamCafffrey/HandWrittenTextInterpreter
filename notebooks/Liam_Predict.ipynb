{
 "cells": [
  {
   "cell_type": "code",
   "execution_count": 2,
   "metadata": {},
   "outputs": [],
   "source": [
    "from tensorflow import keras\n",
    "\n",
    "model = keras.models.load_model(\"../raw_data/neural_model\")"
   ]
  },
  {
   "cell_type": "code",
   "execution_count": 3,
   "metadata": {},
   "outputs": [],
   "source": [
    "import matplotlib.pyplot as plt\n",
    "import matplotlib.image as mpimg\n",
    "import numpy as np\n",
    "from keras.preprocessing.image import load_img\n",
    "from keras.preprocessing.image import img_to_array\n",
    "\n",
    "def load_image(filename):\n",
    "\n",
    "    img = load_img(filename, grayscale=True, target_size=(28, 28))\n",
    "\n",
    "    img = img_to_array(img)\n",
    "\n",
    "    img = img.astype('float32')\n",
    "    img = img / 255.0\n",
    "    return img"
   ]
  },
  {
   "cell_type": "code",
   "execution_count": 4,
   "metadata": {},
   "outputs": [],
   "source": [
    "import cv2\n",
    "import pandas as pd\n",
    "mapp = pd.read_csv(\"../raw_data/emnist-byclass-mapping.txt\", delimiter = ' ',index_col=0, header=None, squeeze=True)\n",
    "\n",
    "def interpreter(x):\n",
    "    return chr(mapp[x])"
   ]
  },
  {
   "cell_type": "code",
   "execution_count": 76,
   "metadata": {},
   "outputs": [],
   "source": [
    "img = load_image('../raw_data/better_test.jpg')"
   ]
  },
  {
   "cell_type": "code",
   "execution_count": 75,
   "metadata": {},
   "outputs": [],
   "source": [
    "img = img.reshape(1, 28, 28, 1)"
   ]
  },
  {
   "cell_type": "code",
   "execution_count": 77,
   "metadata": {
    "scrolled": true
   },
   "outputs": [
    {
     "data": {
      "text/plain": [
       "<matplotlib.image.AxesImage at 0x1616f4c2fc8>"
      ]
     },
     "execution_count": 77,
     "metadata": {},
     "output_type": "execute_result"
    },
    {
     "data": {
      "image/png": "[encoded data removed]",
      "text/plain": [
       "<Figure size 432x288 with 1 Axes>"
      ]
     },
     "metadata": {
      "needs_background": "light"
     },
     "output_type": "display_data"
    }
   ],
   "source": [
    "plt.imshow(img)"
   ]
  },
  {
   "cell_type": "code",
   "execution_count": 78,
   "metadata": {},
   "outputs": [
    {
     "data": {
      "text/plain": [
       "array([[[0.6627451 ],\n",
       "        [0.6666667 ],\n",
       "        [0.67058825],\n",
       "        [0.6745098 ],\n",
       "        [0.67058825],\n",
       "        [0.6627451 ],\n",
       "        [0.6627451 ],\n",
       "        [0.6627451 ],\n",
       "        [0.65882355],\n",
       "        [0.65882355],\n",
       "        [0.65882355],\n",
       "        [0.6627451 ],\n",
       "        [0.67058825],\n",
       "        [0.67058825],\n",
       "        [0.6666667 ],\n",
       "        [0.6627451 ],\n",
       "        [0.6666667 ],\n",
       "        [0.6627451 ],\n",
       "        [0.6666667 ],\n",
       "        [0.6745098 ],\n",
       "        [0.6784314 ],\n",
       "        [0.6745098 ],\n",
       "        [0.6666667 ],\n",
       "        [0.6627451 ],\n",
       "        [0.6666667 ],\n",
       "        [0.6627451 ],\n",
       "        [0.654902  ],\n",
       "        [0.6509804 ]],\n",
       "\n",
       "       [[0.64705884],\n",
       "        [0.654902  ],\n",
       "        [0.65882355],\n",
       "        [0.65882355],\n",
       "        [0.6509804 ],\n",
       "        [0.64705884],\n",
       "        [0.6431373 ],\n",
       "        [0.6431373 ],\n",
       "        [0.65882355],\n",
       "        [0.65882355],\n",
       "        [0.654902  ],\n",
       "        [0.65882355],\n",
       "        [0.6627451 ],\n",
       "        [0.6666667 ],\n",
       "        [0.6627451 ],\n",
       "        [0.6627451 ],\n",
       "        [0.65882355],\n",
       "        [0.65882355],\n",
       "        [0.6627451 ],\n",
       "        [0.6666667 ],\n",
       "        [0.6666667 ],\n",
       "        [0.6627451 ],\n",
       "        [0.654902  ],\n",
       "        [0.6509804 ],\n",
       "        [0.6509804 ],\n",
       "        [0.64705884],\n",
       "        [0.6431373 ],\n",
       "        [0.6392157 ]],\n",
       "\n",
       "       [[0.6431373 ],\n",
       "        [0.64705884],\n",
       "        [0.6509804 ],\n",
       "        [0.6509804 ],\n",
       "        [0.64705884],\n",
       "        [0.6431373 ],\n",
       "        [0.6431373 ],\n",
       "        [0.6431373 ],\n",
       "        [0.65882355],\n",
       "        [0.654902  ],\n",
       "        [0.654902  ],\n",
       "        [0.654902  ],\n",
       "        [0.65882355],\n",
       "        [0.65882355],\n",
       "        [0.65882355],\n",
       "        [0.65882355],\n",
       "        [0.6509804 ],\n",
       "        [0.654902  ],\n",
       "        [0.654902  ],\n",
       "        [0.65882355],\n",
       "        [0.654902  ],\n",
       "        [0.64705884],\n",
       "        [0.6431373 ],\n",
       "        [0.6431373 ],\n",
       "        [0.64705884],\n",
       "        [0.6431373 ],\n",
       "        [0.6431373 ],\n",
       "        [0.6431373 ]],\n",
       "\n",
       "       [[0.6392157 ],\n",
       "        [0.6431373 ],\n",
       "        [0.64705884],\n",
       "        [0.6509804 ],\n",
       "        [0.64705884],\n",
       "        [0.64705884],\n",
       "        [0.64705884],\n",
       "        [0.6509804 ],\n",
       "        [0.654902  ],\n",
       "        [0.654902  ],\n",
       "        [0.6509804 ],\n",
       "        [0.6509804 ],\n",
       "        [0.654902  ],\n",
       "        [0.654902  ],\n",
       "        [0.654902  ],\n",
       "        [0.6509804 ],\n",
       "        [0.64705884],\n",
       "        [0.64705884],\n",
       "        [0.6509804 ],\n",
       "        [0.654902  ],\n",
       "        [0.64705884],\n",
       "        [0.6392157 ],\n",
       "        [0.63529414],\n",
       "        [0.6392157 ],\n",
       "        [0.6313726 ],\n",
       "        [0.63529414],\n",
       "        [0.6392157 ],\n",
       "        [0.6392157 ]],\n",
       "\n",
       "       [[0.627451  ],\n",
       "        [0.6313726 ],\n",
       "        [0.63529414],\n",
       "        [0.63529414],\n",
       "        [0.63529414],\n",
       "        [0.63529414],\n",
       "        [0.6392157 ],\n",
       "        [0.6431373 ],\n",
       "        [0.6627451 ],\n",
       "        [0.6627451 ],\n",
       "        [0.6627451 ],\n",
       "        [0.6627451 ],\n",
       "        [0.6627451 ],\n",
       "        [0.65882355],\n",
       "        [0.654902  ],\n",
       "        [0.6509804 ],\n",
       "        [0.6509804 ],\n",
       "        [0.6509804 ],\n",
       "        [0.6509804 ],\n",
       "        [0.654902  ],\n",
       "        [0.64705884],\n",
       "        [0.6392157 ],\n",
       "        [0.6392157 ],\n",
       "        [0.6431373 ],\n",
       "        [0.63529414],\n",
       "        [0.6392157 ],\n",
       "        [0.6431373 ],\n",
       "        [0.64705884]],\n",
       "\n",
       "       [[0.6       ],\n",
       "        [0.6039216 ],\n",
       "        [0.6039216 ],\n",
       "        [0.6039216 ],\n",
       "        [0.6039216 ],\n",
       "        [0.6039216 ],\n",
       "        [0.6039216 ],\n",
       "        [0.60784316],\n",
       "        [0.60784316],\n",
       "        [0.60784316],\n",
       "        [0.60784316],\n",
       "        [0.6117647 ],\n",
       "        [0.60784316],\n",
       "        [0.6039216 ],\n",
       "        [0.6       ],\n",
       "        [0.59607846],\n",
       "        [0.5921569 ],\n",
       "        [0.5882353 ],\n",
       "        [0.5882353 ],\n",
       "        [0.5882353 ],\n",
       "        [0.5882353 ],\n",
       "        [0.5803922 ],\n",
       "        [0.5803922 ],\n",
       "        [0.5803922 ],\n",
       "        [0.58431375],\n",
       "        [0.58431375],\n",
       "        [0.5882353 ],\n",
       "        [0.5921569 ]],\n",
       "\n",
       "       [[0.64705884],\n",
       "        [0.64705884],\n",
       "        [0.6509804 ],\n",
       "        [0.64705884],\n",
       "        [0.64705884],\n",
       "        [0.64705884],\n",
       "        [0.6509804 ],\n",
       "        [0.654902  ],\n",
       "        [0.6627451 ],\n",
       "        [0.6627451 ],\n",
       "        [0.6627451 ],\n",
       "        [0.65882355],\n",
       "        [0.654902  ],\n",
       "        [0.6509804 ],\n",
       "        [0.6509804 ],\n",
       "        [0.64705884],\n",
       "        [0.6431373 ],\n",
       "        [0.6392157 ],\n",
       "        [0.63529414],\n",
       "        [0.6392157 ],\n",
       "        [0.63529414],\n",
       "        [0.6313726 ],\n",
       "        [0.6313726 ],\n",
       "        [0.6313726 ],\n",
       "        [0.627451  ],\n",
       "        [0.627451  ],\n",
       "        [0.6313726 ],\n",
       "        [0.627451  ]],\n",
       "\n",
       "       [[0.6431373 ],\n",
       "        [0.64705884],\n",
       "        [0.64705884],\n",
       "        [0.64705884],\n",
       "        [0.64705884],\n",
       "        [0.64705884],\n",
       "        [0.654902  ],\n",
       "        [0.65882355],\n",
       "        [0.65882355],\n",
       "        [0.65882355],\n",
       "        [0.654902  ],\n",
       "        [0.6509804 ],\n",
       "        [0.64705884],\n",
       "        [0.6431373 ],\n",
       "        [0.6431373 ],\n",
       "        [0.6431373 ],\n",
       "        [0.64705884],\n",
       "        [0.6392157 ],\n",
       "        [0.63529414],\n",
       "        [0.63529414],\n",
       "        [0.63529414],\n",
       "        [0.6313726 ],\n",
       "        [0.627451  ],\n",
       "        [0.627451  ],\n",
       "        [0.6313726 ],\n",
       "        [0.6313726 ],\n",
       "        [0.6313726 ],\n",
       "        [0.627451  ]],\n",
       "\n",
       "       [[0.6509804 ],\n",
       "        [0.654902  ],\n",
       "        [0.654902  ],\n",
       "        [0.654902  ],\n",
       "        [0.654902  ],\n",
       "        [0.65882355],\n",
       "        [0.65882355],\n",
       "        [0.654902  ],\n",
       "        [0.654902  ],\n",
       "        [0.6666667 ],\n",
       "        [0.654902  ],\n",
       "        [0.6431373 ],\n",
       "        [0.6431373 ],\n",
       "        [0.6431373 ],\n",
       "        [0.61960787],\n",
       "        [0.6392157 ],\n",
       "        [0.63529414],\n",
       "        [0.6392157 ],\n",
       "        [0.6313726 ],\n",
       "        [0.6313726 ],\n",
       "        [0.627451  ],\n",
       "        [0.62352943],\n",
       "        [0.6313726 ],\n",
       "        [0.6156863 ],\n",
       "        [0.61960787],\n",
       "        [0.62352943],\n",
       "        [0.627451  ],\n",
       "        [0.6313726 ]],\n",
       "\n",
       "       [[0.63529414],\n",
       "        [0.63529414],\n",
       "        [0.63529414],\n",
       "        [0.6392157 ],\n",
       "        [0.6392157 ],\n",
       "        [0.6392157 ],\n",
       "        [0.6392157 ],\n",
       "        [0.6392157 ],\n",
       "        [0.6431373 ],\n",
       "        [0.6313726 ],\n",
       "        [0.61960787],\n",
       "        [0.62352943],\n",
       "        [0.6039216 ],\n",
       "        [0.6156863 ],\n",
       "        [0.6431373 ],\n",
       "        [0.6156863 ],\n",
       "        [0.61960787],\n",
       "        [0.6156863 ],\n",
       "        [0.61960787],\n",
       "        [0.60784316],\n",
       "        [0.59607846],\n",
       "        [0.5686275 ],\n",
       "        [0.5058824 ],\n",
       "        [0.6313726 ],\n",
       "        [0.6117647 ],\n",
       "        [0.6117647 ],\n",
       "        [0.60784316],\n",
       "        [0.60784316]],\n",
       "\n",
       "       [[0.6039216 ],\n",
       "        [0.6       ],\n",
       "        [0.59607846],\n",
       "        [0.6039216 ],\n",
       "        [0.6039216 ],\n",
       "        [0.59607846],\n",
       "        [0.5882353 ],\n",
       "        [0.5882353 ],\n",
       "        [0.59607846],\n",
       "        [0.57254905],\n",
       "        [0.5882353 ],\n",
       "        [0.5803922 ],\n",
       "        [0.5882353 ],\n",
       "        [0.5686275 ],\n",
       "        [0.58431375],\n",
       "        [0.5882353 ],\n",
       "        [0.5882353 ],\n",
       "        [0.58431375],\n",
       "        [0.6039216 ],\n",
       "        [0.5882353 ],\n",
       "        [0.5921569 ],\n",
       "        [0.26666668],\n",
       "        [0.39215687],\n",
       "        [0.627451  ],\n",
       "        [0.6039216 ],\n",
       "        [0.59607846],\n",
       "        [0.5882353 ],\n",
       "        [0.5882353 ]],\n",
       "\n",
       "       [[0.57254905],\n",
       "        [0.5647059 ],\n",
       "        [0.56078434],\n",
       "        [0.5647059 ],\n",
       "        [0.56078434],\n",
       "        [0.54509807],\n",
       "        [0.53333336],\n",
       "        [0.5294118 ],\n",
       "        [0.3764706 ],\n",
       "        [0.5686275 ],\n",
       "        [0.5372549 ],\n",
       "        [0.54901963],\n",
       "        [0.5686275 ],\n",
       "        [0.5686275 ],\n",
       "        [0.57254905],\n",
       "        [0.57254905],\n",
       "        [0.5803922 ],\n",
       "        [0.5803922 ],\n",
       "        [0.5803922 ],\n",
       "        [0.64705884],\n",
       "        [0.25882354],\n",
       "        [0.1254902 ],\n",
       "        [0.28627452],\n",
       "        [0.60784316],\n",
       "        [0.58431375],\n",
       "        [0.5764706 ],\n",
       "        [0.57254905],\n",
       "        [0.57254905]],\n",
       "\n",
       "       [[0.5686275 ],\n",
       "        [0.5568628 ],\n",
       "        [0.5529412 ],\n",
       "        [0.5568628 ],\n",
       "        [0.54901963],\n",
       "        [0.53333336],\n",
       "        [0.5137255 ],\n",
       "        [0.5058824 ],\n",
       "        [0.00392157],\n",
       "        [0.23137255],\n",
       "        [0.5803922 ],\n",
       "        [0.5529412 ],\n",
       "        [0.5372549 ],\n",
       "        [0.5372549 ],\n",
       "        [0.5529412 ],\n",
       "        [0.5568628 ],\n",
       "        [0.5568628 ],\n",
       "        [0.5764706 ],\n",
       "        [0.59607846],\n",
       "        [0.42352942],\n",
       "        [0.16862746],\n",
       "        [0.27058825],\n",
       "        [0.13333334],\n",
       "        [0.4509804 ],\n",
       "        [0.5647059 ],\n",
       "        [0.56078434],\n",
       "        [0.56078434],\n",
       "        [0.5647059 ]],\n",
       "\n",
       "       [[0.5176471 ],\n",
       "        [0.5137255 ],\n",
       "        [0.50980395],\n",
       "        [0.50980395],\n",
       "        [0.5058824 ],\n",
       "        [0.49019608],\n",
       "        [0.47058824],\n",
       "        [0.4509804 ],\n",
       "        [0.06666667],\n",
       "        [0.13725491],\n",
       "        [0.30980393],\n",
       "        [0.5686275 ],\n",
       "        [0.5176471 ],\n",
       "        [0.5019608 ],\n",
       "        [0.5254902 ],\n",
       "        [0.5176471 ],\n",
       "        [0.5137255 ],\n",
       "        [0.5411765 ],\n",
       "        [0.47058824],\n",
       "        [0.07058824],\n",
       "        [0.627451  ],\n",
       "        [0.62352943],\n",
       "        [0.04705882],\n",
       "        [0.4392157 ],\n",
       "        [0.54509807],\n",
       "        [0.54509807],\n",
       "        [0.54901963],\n",
       "        [0.5529412 ]],\n",
       "\n",
       "       [[0.5254902 ],\n",
       "        [0.5254902 ],\n",
       "        [0.52156866],\n",
       "        [0.5137255 ],\n",
       "        [0.5137255 ],\n",
       "        [0.5019608 ],\n",
       "        [0.47843137],\n",
       "        [0.4509804 ],\n",
       "        [0.07843138],\n",
       "        [0.34901962],\n",
       "        [0.10196079],\n",
       "        [0.28235295],\n",
       "        [0.5803922 ],\n",
       "        [0.5176471 ],\n",
       "        [0.50980395],\n",
       "        [0.49803922],\n",
       "        [0.49803922],\n",
       "        [0.5647059 ],\n",
       "        [0.11764706],\n",
       "        [0.53333336],\n",
       "        [0.52156866],\n",
       "        [0.5372549 ],\n",
       "        [0.30980393],\n",
       "        [0.30588236],\n",
       "        [0.49019608],\n",
       "        [0.4862745 ],\n",
       "        [0.49019608],\n",
       "        [0.49803922]],\n",
       "\n",
       "       [[0.5372549 ],\n",
       "        [0.54509807],\n",
       "        [0.5372549 ],\n",
       "        [0.5254902 ],\n",
       "        [0.52156866],\n",
       "        [0.5137255 ],\n",
       "        [0.4862745 ],\n",
       "        [0.45490196],\n",
       "        [0.04313726],\n",
       "        [0.33333334],\n",
       "        [0.6       ],\n",
       "        [0.14509805],\n",
       "        [0.16862746],\n",
       "        [0.57254905],\n",
       "        [0.5372549 ],\n",
       "        [0.5411765 ],\n",
       "        [0.5411765 ],\n",
       "        [0.45490196],\n",
       "        [0.15294118],\n",
       "        [0.62352943],\n",
       "        [0.5568628 ],\n",
       "        [0.56078434],\n",
       "        [0.36862746],\n",
       "        [0.27058825],\n",
       "        [0.54509807],\n",
       "        [0.5372549 ],\n",
       "        [0.5372549 ],\n",
       "        [0.5529412 ]],\n",
       "\n",
       "       [[0.54901963],\n",
       "        [0.5529412 ],\n",
       "        [0.54901963],\n",
       "        [0.5411765 ],\n",
       "        [0.5254902 ],\n",
       "        [0.5176471 ],\n",
       "        [0.5019608 ],\n",
       "        [0.46666667],\n",
       "        [0.01568628],\n",
       "        [0.35686275],\n",
       "        [0.5764706 ],\n",
       "        [0.62352943],\n",
       "        [0.22745098],\n",
       "        [0.09803922],\n",
       "        [0.5568628 ],\n",
       "        [0.5686275 ],\n",
       "        [0.6117647 ],\n",
       "        [0.1254902 ],\n",
       "        [0.5411765 ],\n",
       "        [0.5686275 ],\n",
       "        [0.5411765 ],\n",
       "        [0.5568628 ],\n",
       "        [0.4862745 ],\n",
       "        [0.14117648],\n",
       "        [0.5803922 ],\n",
       "        [0.54901963],\n",
       "        [0.5372549 ],\n",
       "        [0.56078434]],\n",
       "\n",
       "       [[0.5529412 ],\n",
       "        [0.5568628 ],\n",
       "        [0.5411765 ],\n",
       "        [0.53333336],\n",
       "        [0.53333336],\n",
       "        [0.5137255 ],\n",
       "        [0.5058824 ],\n",
       "        [0.5176471 ],\n",
       "        [0.00392157],\n",
       "        [0.47843137],\n",
       "        [0.5803922 ],\n",
       "        [0.5568628 ],\n",
       "        [0.63529414],\n",
       "        [0.4       ],\n",
       "        [0.01568628],\n",
       "        [0.45882353],\n",
       "        [0.4       ],\n",
       "        [0.27058825],\n",
       "        [0.60784316],\n",
       "        [0.5647059 ],\n",
       "        [0.57254905],\n",
       "        [0.53333336],\n",
       "        [0.5882353 ],\n",
       "        [0.09019608],\n",
       "        [0.6039216 ],\n",
       "        [0.54901963],\n",
       "        [0.5568628 ],\n",
       "        [0.54509807]],\n",
       "\n",
       "       [[0.5529412 ],\n",
       "        [0.56078434],\n",
       "        [0.5411765 ],\n",
       "        [0.53333336],\n",
       "        [0.5372549 ],\n",
       "        [0.50980395],\n",
       "        [0.50980395],\n",
       "        [0.5647059 ],\n",
       "        [0.01960784],\n",
       "        [0.43137255],\n",
       "        [0.58431375],\n",
       "        [0.5764706 ],\n",
       "        [0.5529412 ],\n",
       "        [0.6       ],\n",
       "        [0.5294118 ],\n",
       "        [0.02745098],\n",
       "        [0.09803922],\n",
       "        [0.6156863 ],\n",
       "        [0.57254905],\n",
       "        [0.5686275 ],\n",
       "        [0.54901963],\n",
       "        [0.54509807],\n",
       "        [0.59607846],\n",
       "        [0.10588235],\n",
       "        [0.6156863 ],\n",
       "        [0.54901963],\n",
       "        [0.5764706 ],\n",
       "        [0.5568628 ]],\n",
       "\n",
       "       [[0.54509807],\n",
       "        [0.54509807],\n",
       "        [0.5372549 ],\n",
       "        [0.53333336],\n",
       "        [0.5254902 ],\n",
       "        [0.5019608 ],\n",
       "        [0.5058824 ],\n",
       "        [0.5647059 ],\n",
       "        [0.08235294],\n",
       "        [0.41960785],\n",
       "        [0.5686275 ],\n",
       "        [0.5764706 ],\n",
       "        [0.5764706 ],\n",
       "        [0.5686275 ],\n",
       "        [0.59607846],\n",
       "        [0.48235294],\n",
       "        [0.43529412],\n",
       "        [0.5803922 ],\n",
       "        [0.5803922 ],\n",
       "        [0.5647059 ],\n",
       "        [0.5764706 ],\n",
       "        [0.57254905],\n",
       "        [0.57254905],\n",
       "        [0.18039216],\n",
       "        [0.57254905],\n",
       "        [0.56078434],\n",
       "        [0.56078434],\n",
       "        [0.5568628 ]],\n",
       "\n",
       "       [[0.54901963],\n",
       "        [0.5294118 ],\n",
       "        [0.5372549 ],\n",
       "        [0.53333336],\n",
       "        [0.5176471 ],\n",
       "        [0.50980395],\n",
       "        [0.52156866],\n",
       "        [0.56078434],\n",
       "        [0.12941177],\n",
       "        [0.4117647 ],\n",
       "        [0.6117647 ],\n",
       "        [0.5882353 ],\n",
       "        [0.56078434],\n",
       "        [0.5764706 ],\n",
       "        [0.5411765 ],\n",
       "        [0.5686275 ],\n",
       "        [0.5882353 ],\n",
       "        [0.5882353 ],\n",
       "        [0.5764706 ],\n",
       "        [0.5647059 ],\n",
       "        [0.5411765 ],\n",
       "        [0.5529412 ],\n",
       "        [0.5882353 ],\n",
       "        [0.2627451 ],\n",
       "        [0.49019608],\n",
       "        [0.6       ],\n",
       "        [0.5686275 ],\n",
       "        [0.56078434]],\n",
       "\n",
       "       [[0.5529412 ],\n",
       "        [0.5176471 ],\n",
       "        [0.53333336],\n",
       "        [0.5294118 ],\n",
       "        [0.5137255 ],\n",
       "        [0.5254902 ],\n",
       "        [0.5372549 ],\n",
       "        [0.5647059 ],\n",
       "        [0.1882353 ],\n",
       "        [0.41568628],\n",
       "        [0.6156863 ],\n",
       "        [0.53333336],\n",
       "        [0.5764706 ],\n",
       "        [0.5764706 ],\n",
       "        [0.5764706 ],\n",
       "        [0.5803922 ],\n",
       "        [0.5803922 ],\n",
       "        [0.5686275 ],\n",
       "        [0.5764706 ],\n",
       "        [0.5764706 ],\n",
       "        [0.58431375],\n",
       "        [0.5803922 ],\n",
       "        [0.6156863 ],\n",
       "        [0.36078432],\n",
       "        [0.3882353 ],\n",
       "        [0.6039216 ],\n",
       "        [0.5803922 ],\n",
       "        [0.57254905]],\n",
       "\n",
       "       [[0.49411765],\n",
       "        [0.4627451 ],\n",
       "        [0.47058824],\n",
       "        [0.46666667],\n",
       "        [0.4745098 ],\n",
       "        [0.48235294],\n",
       "        [0.48235294],\n",
       "        [0.52156866],\n",
       "        [0.14509805],\n",
       "        [0.41960785],\n",
       "        [0.5529412 ],\n",
       "        [0.50980395],\n",
       "        [0.5137255 ],\n",
       "        [0.4862745 ],\n",
       "        [0.47843137],\n",
       "        [0.5294118 ],\n",
       "        [0.5137255 ],\n",
       "        [0.5372549 ],\n",
       "        [0.5137255 ],\n",
       "        [0.5137255 ],\n",
       "        [0.52156866],\n",
       "        [0.5294118 ],\n",
       "        [0.5372549 ],\n",
       "        [0.41568628],\n",
       "        [0.33333334],\n",
       "        [0.52156866],\n",
       "        [0.5058824 ],\n",
       "        [0.49803922]],\n",
       "\n",
       "       [[0.5294118 ],\n",
       "        [0.50980395],\n",
       "        [0.5137255 ],\n",
       "        [0.50980395],\n",
       "        [0.5372549 ],\n",
       "        [0.53333336],\n",
       "        [0.5137255 ],\n",
       "        [0.57254905],\n",
       "        [0.09019608],\n",
       "        [0.5176471 ],\n",
       "        [0.58431375],\n",
       "        [0.54901963],\n",
       "        [0.54509807],\n",
       "        [0.54901963],\n",
       "        [0.5882353 ],\n",
       "        [0.5686275 ],\n",
       "        [0.5686275 ],\n",
       "        [0.5686275 ],\n",
       "        [0.5529412 ],\n",
       "        [0.5686275 ],\n",
       "        [0.5803922 ],\n",
       "        [0.5764706 ],\n",
       "        [0.5803922 ],\n",
       "        [0.53333336],\n",
       "        [0.49411765],\n",
       "        [0.5764706 ],\n",
       "        [0.5372549 ],\n",
       "        [0.5176471 ]],\n",
       "\n",
       "       [[0.53333336],\n",
       "        [0.5254902 ],\n",
       "        [0.52156866],\n",
       "        [0.5254902 ],\n",
       "        [0.5254902 ],\n",
       "        [0.5254902 ],\n",
       "        [0.5294118 ],\n",
       "        [0.54509807],\n",
       "        [0.13725491],\n",
       "        [0.42745098],\n",
       "        [0.5764706 ],\n",
       "        [0.54509807],\n",
       "        [0.56078434],\n",
       "        [0.57254905],\n",
       "        [0.5568628 ],\n",
       "        [0.5803922 ],\n",
       "        [0.57254905],\n",
       "        [0.5647059 ],\n",
       "        [0.56078434],\n",
       "        [0.5686275 ],\n",
       "        [0.5764706 ],\n",
       "        [0.5686275 ],\n",
       "        [0.5411765 ],\n",
       "        [0.5137255 ],\n",
       "        [0.5294118 ],\n",
       "        [0.5254902 ],\n",
       "        [0.5254902 ],\n",
       "        [0.5254902 ]],\n",
       "\n",
       "       [[0.53333336],\n",
       "        [0.5294118 ],\n",
       "        [0.5254902 ],\n",
       "        [0.5294118 ],\n",
       "        [0.5294118 ],\n",
       "        [0.5254902 ],\n",
       "        [0.53333336],\n",
       "        [0.54509807],\n",
       "        [0.28235295],\n",
       "        [0.44313726],\n",
       "        [0.56078434],\n",
       "        [0.5411765 ],\n",
       "        [0.56078434],\n",
       "        [0.54901963],\n",
       "        [0.5764706 ],\n",
       "        [0.5529412 ],\n",
       "        [0.5647059 ],\n",
       "        [0.56078434],\n",
       "        [0.56078434],\n",
       "        [0.5647059 ],\n",
       "        [0.5647059 ],\n",
       "        [0.5568628 ],\n",
       "        [0.5372549 ],\n",
       "        [0.5176471 ],\n",
       "        [0.52156866],\n",
       "        [0.52156866],\n",
       "        [0.52156866],\n",
       "        [0.52156866]],\n",
       "\n",
       "       [[0.5372549 ],\n",
       "        [0.53333336],\n",
       "        [0.53333336],\n",
       "        [0.5372549 ],\n",
       "        [0.5372549 ],\n",
       "        [0.53333336],\n",
       "        [0.53333336],\n",
       "        [0.5411765 ],\n",
       "        [0.59607846],\n",
       "        [0.3137255 ],\n",
       "        [0.54509807],\n",
       "        [0.5686275 ],\n",
       "        [0.54509807],\n",
       "        [0.5803922 ],\n",
       "        [0.5686275 ],\n",
       "        [0.5529412 ],\n",
       "        [0.5568628 ],\n",
       "        [0.5568628 ],\n",
       "        [0.5568628 ],\n",
       "        [0.5568628 ],\n",
       "        [0.5529412 ],\n",
       "        [0.5411765 ],\n",
       "        [0.5294118 ],\n",
       "        [0.52156866],\n",
       "        [0.5176471 ],\n",
       "        [0.52156866],\n",
       "        [0.52156866],\n",
       "        [0.52156866]],\n",
       "\n",
       "       [[0.5372549 ],\n",
       "        [0.53333336],\n",
       "        [0.5372549 ],\n",
       "        [0.5411765 ],\n",
       "        [0.5411765 ],\n",
       "        [0.5372549 ],\n",
       "        [0.5372549 ],\n",
       "        [0.5411765 ],\n",
       "        [0.5294118 ],\n",
       "        [0.4509804 ],\n",
       "        [0.60784316],\n",
       "        [0.56078434],\n",
       "        [0.5686275 ],\n",
       "        [0.54901963],\n",
       "        [0.56078434],\n",
       "        [0.5647059 ],\n",
       "        [0.5568628 ],\n",
       "        [0.5568628 ],\n",
       "        [0.5568628 ],\n",
       "        [0.5529412 ],\n",
       "        [0.54901963],\n",
       "        [0.5372549 ],\n",
       "        [0.5294118 ],\n",
       "        [0.5254902 ],\n",
       "        [0.5176471 ],\n",
       "        [0.52156866],\n",
       "        [0.5254902 ],\n",
       "        [0.52156866]]], dtype=float32)"
      ]
     },
     "execution_count": 78,
     "metadata": {},
     "output_type": "execute_result"
    }
   ],
   "source": [
    "img"
   ]
  },
  {
   "cell_type": "code",
   "execution_count": null,
   "metadata": {},
   "outputs": [],
   "source": []
  },
  {
   "cell_type": "code",
   "execution_count": 24,
   "metadata": {
    "scrolled": true
   },
   "outputs": [],
   "source": [
    "char = model.predict_classes(img)"
   ]
  },
  {
   "cell_type": "code",
   "execution_count": 25,
   "metadata": {
    "scrolled": true
   },
   "outputs": [
    {
     "name": "stdout",
     "output_type": "stream",
     "text": [
      "8\n"
     ]
    }
   ],
   "source": [
    "print(char[0])"
   ]
  },
  {
   "cell_type": "code",
   "execution_count": 128,
   "metadata": {},
   "outputs": [],
   "source": [
    "img_2 = load_image('../raw_data/number_seven.jpg')"
   ]
  },
  {
   "cell_type": "code",
   "execution_count": 129,
   "metadata": {},
   "outputs": [
    {
     "data": {
      "text/plain": [
       "<matplotlib.image.AxesImage at 0x1fe60d8f3c8>"
      ]
     },
     "execution_count": 129,
     "metadata": {},
     "output_type": "execute_result"
    },
    {
     "data": {
      "image/png": "[encoded data removed]",
      "text/plain": [
       "<Figure size 432x288 with 1 Axes>"
      ]
     },
     "metadata": {
      "needs_background": "light"
     },
     "output_type": "display_data"
    }
   ],
   "source": [
    "plt.imshow(img_2)"
   ]
  },
  {
   "cell_type": "code",
   "execution_count": 130,
   "metadata": {},
   "outputs": [],
   "source": [
    "img_2 = img_2.reshape(1, 28, 28, 1)"
   ]
  },
  {
   "cell_type": "code",
   "execution_count": 131,
   "metadata": {},
   "outputs": [],
   "source": [
    "char_2 = model.predict_classes(img_2)"
   ]
  },
  {
   "cell_type": "code",
   "execution_count": 133,
   "metadata": {},
   "outputs": [
    {
     "data": {
      "text/plain": [
       "'7'"
      ]
     },
     "execution_count": 133,
     "metadata": {},
     "output_type": "execute_result"
    }
   ],
   "source": [
    "interpreter(char_2[0])"
   ]
  },
  {
   "cell_type": "code",
   "execution_count": 92,
   "metadata": {},
   "outputs": [],
   "source": [
    "img_3 = load_image('../raw_data/new_photo_of_letter_m.jpg')"
   ]
  },
  {
   "cell_type": "code",
   "execution_count": 93,
   "metadata": {},
   "outputs": [
    {
     "data": {
      "text/plain": [
       "<matplotlib.image.AxesImage at 0x1616f5707c8>"
      ]
     },
     "execution_count": 93,
     "metadata": {},
     "output_type": "execute_result"
    },
    {
     "data": {
      "image/png": "[encoded data removed]",
      "text/plain": [
       "<Figure size 432x288 with 1 Axes>"
      ]
     },
     "metadata": {
      "needs_background": "light"
     },
     "output_type": "display_data"
    }
   ],
   "source": [
    "plt.imshow(img_3)"
   ]
  },
  {
   "cell_type": "code",
   "execution_count": 94,
   "metadata": {},
   "outputs": [],
   "source": [
    "img_3 = img_3.reshape(1, 28, 28, 1)"
   ]
  },
  {
   "cell_type": "code",
   "execution_count": 95,
   "metadata": {},
   "outputs": [],
   "source": [
    "char_3 = model.predict_classes(img_3)"
   ]
  },
  {
   "cell_type": "code",
   "execution_count": 96,
   "metadata": {},
   "outputs": [
    {
     "data": {
      "text/plain": [
       "'8'"
      ]
     },
     "execution_count": 96,
     "metadata": {},
     "output_type": "execute_result"
    }
   ],
   "source": [
    "interpreter(char_3)"
   ]
  },
  {
   "cell_type": "code",
   "execution_count": 73,
   "metadata": {},
   "outputs": [],
   "source": [
    "from PIL import Image, ImageOps\n",
    "im = Image.open('../raw_data/horse_test.png').convert('RGB')\n",
    "im_invert = ImageOps.invert(im)"
   ]
  },
  {
   "cell_type": "code",
   "execution_count": 143,
   "metadata": {},
   "outputs": [
    {
     "data": {
      "image/png": "[encoded data removed]",
      "text/plain": [
       "<PIL.Image.Image image mode=RGB size=400x328 at 0x1FE61391448>"
      ]
     },
     "execution_count": 143,
     "metadata": {},
     "output_type": "execute_result"
    }
   ],
   "source": [
    "im_invert"
   ]
  },
  {
   "cell_type": "code",
   "execution_count": 146,
   "metadata": {},
   "outputs": [],
   "source": [
    "im = Image.open('../raw_data/new_photo_of_letter_m.jpg').convert('RGB')\n",
    "im_invert = ImageOps.invert(im)\n",
    "im_invert.save('../raw_data/m_inv.jpg')"
   ]
  },
  {
   "cell_type": "code",
   "execution_count": 147,
   "metadata": {},
   "outputs": [],
   "source": [
    "img_4 = load_image('../raw_data/m_inv.jpg')"
   ]
  },
  {
   "cell_type": "code",
   "execution_count": 148,
   "metadata": {
    "scrolled": true
   },
   "outputs": [
    {
     "data": {
      "text/plain": [
       "<matplotlib.image.AxesImage at 0x1fe61326f48>"
      ]
     },
     "execution_count": 148,
     "metadata": {},
     "output_type": "execute_result"
    },
    {
     "data": {
      "image/png": "[encoded data removed]",
      "text/plain": [
       "<Figure size 432x288 with 1 Axes>"
      ]
     },
     "metadata": {
      "needs_background": "light"
     },
     "output_type": "display_data"
    }
   ],
   "source": [
    "plt.imshow(img_4)"
   ]
  },
  {
   "cell_type": "code",
   "execution_count": 149,
   "metadata": {},
   "outputs": [],
   "source": [
    "img_4 = img_4.reshape(1, 28, 28, 1)"
   ]
  },
  {
   "cell_type": "code",
   "execution_count": 150,
   "metadata": {},
   "outputs": [],
   "source": [
    "char_4 = model.predict_classes(img_4)"
   ]
  },
  {
   "cell_type": "code",
   "execution_count": 152,
   "metadata": {},
   "outputs": [
    {
     "data": {
      "text/plain": [
       "'M'"
      ]
     },
     "execution_count": 152,
     "metadata": {},
     "output_type": "execute_result"
    }
   ],
   "source": [
    "interpreter(char_4)"
   ]
  },
  {
   "cell_type": "code",
   "execution_count": 19,
   "metadata": {},
   "outputs": [],
   "source": [
    "im = Image.open('../raw_data/letter_n_test.jpg').convert('RGB')\n",
    "im_invert = ImageOps.invert(im)\n",
    "im_invert.save('../raw_data/letter_n_inv.jpg')"
   ]
  },
  {
   "cell_type": "code",
   "execution_count": 20,
   "metadata": {},
   "outputs": [],
   "source": [
    "img_5 = load_image('../raw_data/letter_n_inv.jpg')"
   ]
  },
  {
   "cell_type": "code",
   "execution_count": 21,
   "metadata": {},
   "outputs": [
    {
     "data": {
      "text/plain": [
       "<matplotlib.image.AxesImage at 0x1616ed89448>"
      ]
     },
     "execution_count": 21,
     "metadata": {},
     "output_type": "execute_result"
    },
    {
     "data": {
      "image/png": "[encoded data removed]",
      "text/plain": [
       "<Figure size 432x288 with 1 Axes>"
      ]
     },
     "metadata": {
      "needs_background": "light"
     },
     "output_type": "display_data"
    }
   ],
   "source": [
    "plt.imshow(img_5)"
   ]
  },
  {
   "cell_type": "code",
   "execution_count": 22,
   "metadata": {},
   "outputs": [],
   "source": [
    "img_5 = img_5.reshape(1, 28, 28, 1)"
   ]
  },
  {
   "cell_type": "code",
   "execution_count": 23,
   "metadata": {},
   "outputs": [],
   "source": [
    "char_5 = model.predict_classes(img_5)"
   ]
  },
  {
   "cell_type": "code",
   "execution_count": 161,
   "metadata": {},
   "outputs": [
    {
     "data": {
      "text/plain": [
       "'N'"
      ]
     },
     "execution_count": 161,
     "metadata": {},
     "output_type": "execute_result"
    }
   ],
   "source": [
    "interpreter(char_5)"
   ]
  },
  {
   "cell_type": "code",
   "execution_count": 108,
   "metadata": {},
   "outputs": [],
   "source": [
    "im = Image.open('../raw_data/RATO.jpg').convert('RGB')\n",
    "im_invert = ImageOps.invert(im)\n",
    "im_invert.save('../raw_data/RATO_inv.jpg')"
   ]
  },
  {
   "cell_type": "code",
   "execution_count": 109,
   "metadata": {},
   "outputs": [
    {
     "data": {
      "text/plain": [
       "<matplotlib.image.AxesImage at 0x1616f593588>"
      ]
     },
     "execution_count": 109,
     "metadata": {},
     "output_type": "execute_result"
    },
    {
     "data": {
      "image/png": "[encoded data removed]",
      "text/plain": [
       "<Figure size 432x288 with 1 Axes>"
      ]
     },
     "metadata": {
      "needs_background": "light"
     },
     "output_type": "display_data"
    }
   ],
   "source": [
    "plt.imshow(im_invert)"
   ]
  },
  {
   "cell_type": "code",
   "execution_count": 110,
   "metadata": {},
   "outputs": [],
   "source": [
    "import numpy as np\n",
    "\n",
    "img_6 = load_image('../raw_data/RATO_iNV.jpg')"
   ]
  },
  {
   "cell_type": "code",
   "execution_count": 111,
   "metadata": {},
   "outputs": [
    {
     "data": {
      "text/plain": [
       "<matplotlib.image.AxesImage at 0x1616f744ec8>"
      ]
     },
     "execution_count": 111,
     "metadata": {},
     "output_type": "execute_result"
    },
    {
     "data": {
      "image/png": "[encoded data removed]",
      "text/plain": [
       "<Figure size 432x288 with 1 Axes>"
      ]
     },
     "metadata": {
      "needs_background": "light"
     },
     "output_type": "display_data"
    }
   ],
   "source": [
    "plt.imshow(img_6)"
   ]
  },
  {
   "cell_type": "code",
   "execution_count": 112,
   "metadata": {},
   "outputs": [
    {
     "data": {
      "text/plain": [
       "numpy.ndarray"
      ]
     },
     "execution_count": 112,
     "metadata": {},
     "output_type": "execute_result"
    }
   ],
   "source": [
    "type(img_6)"
   ]
  },
  {
   "cell_type": "code",
   "execution_count": 113,
   "metadata": {},
   "outputs": [
    {
     "data": {
      "text/plain": [
       "(28, 28, 1)"
      ]
     },
     "execution_count": 113,
     "metadata": {},
     "output_type": "execute_result"
    }
   ],
   "source": [
    "img_6.shape"
   ]
  },
  {
   "cell_type": "code",
   "execution_count": 99,
   "metadata": {},
   "outputs": [],
   "source": [
    "img_6 = img_6.reshape(1, 28, 28, 1)"
   ]
  },
  {
   "cell_type": "code",
   "execution_count": 100,
   "metadata": {},
   "outputs": [],
   "source": [
    "char_6 = model.predict_classes(img_6)"
   ]
  },
  {
   "cell_type": "code",
   "execution_count": 101,
   "metadata": {},
   "outputs": [
    {
     "data": {
      "text/plain": [
       "'B'"
      ]
     },
     "execution_count": 101,
     "metadata": {},
     "output_type": "execute_result"
    }
   ],
   "source": [
    "interpreter(char_6)"
   ]
  },
  {
   "cell_type": "code",
   "execution_count": 114,
   "metadata": {},
   "outputs": [],
   "source": [
    "test = load_image('../raw_data/letter_n_test.jpg')"
   ]
  },
  {
   "cell_type": "code",
   "execution_count": 116,
   "metadata": {},
   "outputs": [
    {
     "data": {
      "text/plain": [
       "(28, 28, 1)"
      ]
     },
     "execution_count": 116,
     "metadata": {},
     "output_type": "execute_result"
    }
   ],
   "source": [
    "test.shape"
   ]
  },
  {
   "cell_type": "code",
   "execution_count": 117,
   "metadata": {},
   "outputs": [],
   "source": [
    "from keras.preprocessing.image import load_img\n",
    "from keras.preprocessing.image import img_to_array\n",
    "\n",
    "def load_image(filename):\n",
    "\n",
    "    img = load_img(filename, grayscale=True, target_size=(28, 28))\n",
    "\n",
    "    img = img_to_array(img)\n",
    "\n",
    "    img = img.astype('float32')\n",
    "    img = img / 255.0\n",
    "    return img"
   ]
  },
  {
   "cell_type": "code",
   "execution_count": 118,
   "metadata": {},
   "outputs": [],
   "source": [
    "img = cv2.imread('../raw_data/letter_n_test.jpg')  "
   ]
  },
  {
   "cell_type": "code",
   "execution_count": 122,
   "metadata": {},
   "outputs": [
    {
     "data": {
      "text/plain": [
       "(760, 1263, 3)"
      ]
     },
     "execution_count": 122,
     "metadata": {},
     "output_type": "execute_result"
    }
   ],
   "source": [
    "img.shape"
   ]
  },
  {
   "cell_type": "code",
   "execution_count": 127,
   "metadata": {},
   "outputs": [
    {
     "data": {
      "text/plain": [
       "(2879640,)"
      ]
     },
     "execution_count": 127,
     "metadata": {},
     "output_type": "execute_result"
    }
   ],
   "source": [
    "img = img.flatten()\n",
    "img.shape"
   ]
  },
  {
   "cell_type": "code",
   "execution_count": 138,
   "metadata": {
    "scrolled": true
   },
   "outputs": [],
   "source": [
    "im = Image.open('../raw_data/letter_n_test.jpg') \n",
    "im1 = im.resize((28,28)) "
   ]
  },
  {
   "cell_type": "code",
   "execution_count": 142,
   "metadata": {},
   "outputs": [],
   "source": [
    "im1 = np.array(im1)"
   ]
  },
  {
   "cell_type": "code",
   "execution_count": 143,
   "metadata": {},
   "outputs": [
    {
     "data": {
      "text/plain": [
       "(28, 28, 3)"
      ]
     },
     "execution_count": 143,
     "metadata": {},
     "output_type": "execute_result"
    }
   ],
   "source": [
    "im1.shape"
   ]
  },
  {
   "cell_type": "code",
   "execution_count": 145,
   "metadata": {},
   "outputs": [],
   "source": [
    "gray = cv2. cvtColor(im1, cv2.COLOR_BGR2GRAY)\n",
    "gray = np.expand_dims(gray, 2)"
   ]
  },
  {
   "cell_type": "code",
   "execution_count": 148,
   "metadata": {},
   "outputs": [
    {
     "data": {
      "text/plain": [
       "(28, 28, 1)"
      ]
     },
     "execution_count": 148,
     "metadata": {},
     "output_type": "execute_result"
    }
   ],
   "source": [
    "gray.shape"
   ]
  },
  {
   "cell_type": "code",
   "execution_count": 134,
   "metadata": {},
   "outputs": [
    {
     "data": {
      "text/plain": [
       "2879640"
      ]
     },
     "execution_count": 134,
     "metadata": {},
     "output_type": "execute_result"
    }
   ],
   "source": [
    "760 * 1263 * 3"
   ]
  },
  {
   "cell_type": "code",
   "execution_count": null,
   "metadata": {},
   "outputs": [],
   "source": []
  }
 ],
 "metadata": {
  "kernelspec": {
   "display_name": "Python 3",
   "language": "python",
   "name": "python3"
  },
  "language_info": {
   "codemirror_mode": {
    "name": "ipython",
    "version": 3
   },
   "file_extension": ".py",
   "mimetype": "text/x-python",
   "name": "python",
   "nbconvert_exporter": "python",
   "pygments_lexer": "ipython3",
   "version": "3.7.7"
  },
  "toc": {
   "base_numbering": 1,
   "nav_menu": {},
   "number_sections": true,
   "sideBar": true,
   "skip_h1_title": false,
   "title_cell": "Table of Contents",
   "title_sidebar": "Contents",
   "toc_cell": false,
   "toc_position": {},
   "toc_section_display": true,
   "toc_window_display": false
  },
  "varInspector": {
   "cols": {
    "lenName": 16,
    "lenType": 16,
    "lenVar": 40
   },
   "kernels_config": {
    "python": {
     "delete_cmd_postfix": "",
     "delete_cmd_prefix": "del ",
     "library": "var_list.py",
     "varRefreshCmd": "print(var_dic_list())"
    },
    "r": {
     "delete_cmd_postfix": ") ",
     "delete_cmd_prefix": "rm(",
     "library": "var_list.r",
     "varRefreshCmd": "cat(var_dic_list()) "
    }
   },
   "types_to_exclude": [
    "module",
    "function",
    "builtin_function_or_method",
    "instance",
    "_Feature"
   ],
   "window_display": false
  }
 },
 "nbformat": 4,
 "nbformat_minor": 4
}
