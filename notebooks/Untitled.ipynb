{
 "cells": [
  {
   "cell_type": "code",
   "execution_count": 8,
   "metadata": {},
   "outputs": [
    {
     "name": "stdout",
     "output_type": "stream",
     "text": [
      "img shape= (183, 351, 3)\n",
      "x= 35 y= 36 w= 176 h= 108\n"
     ]
    },
    {
     "data": {
      "text/plain": [
       "True"
      ]
     },
     "execution_count": 8,
     "metadata": {},
     "output_type": "execute_result"
    }
   ],
   "source": [
    "import cv2\n",
    "\n",
    "### load input image and convert it to grayscale\n",
    "img = cv2.imread(\"input.png\")\n",
    "print(\"img shape=\", img.shape)\n",
    "gray = cv2.cvtColor(img, cv2.COLOR_BGR2GRAY)\n",
    "\n",
    "#### extract all contours\n",
    "contours,_  = cv2.findContours(gray.copy(), cv2.RETR_TREE, cv2.CHAIN_APPROX_SIMPLE)\n",
    "\n",
    "# debug: draw all contours\n",
    "#cv2.drawContours(img, contours, -1, (0, 0, 255), 2)\n",
    "#cv2.imwrite(\"all_contours.jpg\", img)\n",
    "\n",
    "#### create one bounding box for every contour found\n",
    "bb_list = []\n",
    "for c in contours:  \n",
    "    bb = cv2.boundingRect(c)\n",
    "    # save all boxes except the one that has the exact dimensions of the image (x, y, width, height)\n",
    "    if (bb[0] == 0 and bb[1] == 0 and bb[2] == img.shape[1] and bb[3] == img.shape[0]):\n",
    "        continue\n",
    "    bb_list.append(bb)\n",
    "\n",
    "# debug: draw boxes\n",
    "#img_boxes = img.copy()\n",
    "#for bb in bb_list:\n",
    "#   x,y,w,h = bb\n",
    "#   cv2.rectangle(img_boxes, (x, y), (x+w, y+h), (0, 0, 255), 2)\n",
    "#cv2.imwrite(\"boxes.jpg\", img_boxes)    \n",
    "\n",
    "#### sort bounding boxes by the X value: first item is the left-most box\n",
    "bb_list.sort(key=lambda x:x[0])\n",
    "\n",
    "# debug: draw the last box of the list (letter M)\n",
    "#print(\"letter M @ \", bb_list[-1])\n",
    "#x,y,w,h = bb_list[-1]\n",
    "#cv2.rectangle(img, (x, y), (x+w, y+h), (0, 0, 255), 2)\n",
    "#cv2.imwrite(\"last_contour.jpg\", img)\n",
    "\n",
    "### remove the last item from the list, i.e. remove box for letter M\n",
    "bb_list = bb_list[:-1]\n",
    "\n",
    "### and now the fun part: create one large bounding box to rule them all\n",
    "x_start, _, _, _ = bb_list[0]\n",
    "x_end, _, w_end, _ = bb_list[-1]\n",
    "\n",
    "x = x_start\n",
    "w = (x_end + w_end) - x_start\n",
    "\n",
    "bb_list.sort(key=lambda y:y[1]) # sort by Y value: the first item has the smallest Y value \n",
    "_, y, _, _ = bb_list[0]\n",
    "\n",
    "bb_list.sort(key=lambda y:y[3]) # sort by Height value: the last item has the largest Height value \n",
    "_, _, _, h = bb_list[-1]\n",
    "\n",
    "print(\"x=\", x, \"y=\", y, \"w=\", w, \"h=\", h)\n",
    "\n",
    "# debug: draw the final region of interest\n",
    "roi_img = img.copy()\n",
    "cv2.rectangle(roi_img, (x, y), (x+w, y+h), (0, 0, 255), 2)\n",
    "cv2.imwrite(\"roi.jpg\", roi_img)\n",
    "\n",
    "# crop to the roi\n",
    "crop_img = img[y:y+h, x:x+w]\n",
    "cv2.imwrite(\"crop.jpg\", crop_img)"
   ]
  },
  {
   "cell_type": "code",
   "execution_count": null,
   "metadata": {},
   "outputs": [],
   "source": []
  }
 ],
 "metadata": {
  "kernelspec": {
   "display_name": "Python 3",
   "language": "python",
   "name": "python3"
  },
  "language_info": {
   "codemirror_mode": {
    "name": "ipython",
    "version": 3
   },
   "file_extension": ".py",
   "mimetype": "text/x-python",
   "name": "python",
   "nbconvert_exporter": "python",
   "pygments_lexer": "ipython3",
   "version": "3.7.7"
  },
  "toc": {
   "base_numbering": 1,
   "nav_menu": {},
   "number_sections": true,
   "sideBar": true,
   "skip_h1_title": false,
   "title_cell": "Table of Contents",
   "title_sidebar": "Contents",
   "toc_cell": false,
   "toc_position": {},
   "toc_section_display": true,
   "toc_window_display": false
  },
  "varInspector": {
   "cols": {
    "lenName": 16,
    "lenType": 16,
    "lenVar": 40
   },
   "kernels_config": {
    "python": {
     "delete_cmd_postfix": "",
     "delete_cmd_prefix": "del ",
     "library": "var_list.py",
     "varRefreshCmd": "print(var_dic_list())"
    },
    "r": {
     "delete_cmd_postfix": ") ",
     "delete_cmd_prefix": "rm(",
     "library": "var_list.r",
     "varRefreshCmd": "cat(var_dic_list()) "
    }
   },
   "types_to_exclude": [
    "module",
    "function",
    "builtin_function_or_method",
    "instance",
    "_Feature"
   ],
   "window_display": false
  }
 },
 "nbformat": 4,
 "nbformat_minor": 4
}
